{
  "nbformat": 4,
  "nbformat_minor": 0,
  "metadata": {
    "kernelspec": {
      "display_name": "Python 3",
      "language": "python",
      "name": "python3"
    },
    "language_info": {
      "codemirror_mode": {
        "name": "ipython",
        "version": 3
      },
      "file_extension": ".py",
      "mimetype": "text/x-python",
      "name": "python",
      "nbconvert_exporter": "python",
      "pygments_lexer": "ipython3",
      "version": "3.7.1"
    },
    "colab": {
      "name": "clustering.ipynb",
      "provenance": [],
      "include_colab_link": true
    }
  },
  "cells": [
    {
      "cell_type": "markdown",
      "metadata": {
        "id": "view-in-github",
        "colab_type": "text"
      },
      "source": [
        "<a href=\"https://colab.research.google.com/github/Larissabraz/bootcamp-mia-2022/blob/main/8.%20Clustering/clustering.ipynb\" target=\"_parent\"><img src=\"https://colab.research.google.com/assets/colab-badge.svg\" alt=\"Open In Colab\"/></a>"
      ]
    },
    {
      "cell_type": "markdown",
      "metadata": {
        "id": "X6nz7i2ZOBEH"
      },
      "source": [
        "# Clustering\n",
        "\n",
        "Nesse notebook iremos explorar alguns dos modelos de clustering :D"
      ]
    },
    {
      "cell_type": "markdown",
      "metadata": {
        "id": "gGaqgTw4OBER"
      },
      "source": [
        "### Tipos de clustering"
      ]
    },
    {
      "cell_type": "markdown",
      "metadata": {
        "id": "E_c8_uQHOBES"
      },
      "source": [
        "- **Por partição**\n",
        "- **Hierárquico**\n",
        "- **Por densidade**"
      ]
    },
    {
      "cell_type": "markdown",
      "metadata": {
        "id": "FNwKRsNZOBET"
      },
      "source": [
        "## Por partição: **K-means**"
      ]
    },
    {
      "cell_type": "markdown",
      "metadata": {
        "id": "yBsjDKaWOBEV"
      },
      "source": [
        "![](https://media.giphy.com/media/VryvUKuOxNLqM/giphy.gif)"
      ]
    },
    {
      "cell_type": "markdown",
      "metadata": {
        "id": "ByeYhvydOBEa"
      },
      "source": [
        "### Exercício 1"
      ]
    },
    {
      "cell_type": "code",
      "metadata": {
        "id": "gZNt5KYJOBEc"
      },
      "source": [
        "# imports necessários para a aula\n",
        "import numpy as np\n",
        "import pandas as pd\n",
        "import matplotlib.pyplot as plt\n",
        "import seaborn as sns"
      ],
      "execution_count": null,
      "outputs": []
    },
    {
      "cell_type": "code",
      "metadata": {
        "id": "PyK_D3FkOBEf"
      },
      "source": [
        "plt.rcParams['figure.figsize'] = (12, 7)"
      ],
      "execution_count": null,
      "outputs": []
    },
    {
      "cell_type": "code",
      "metadata": {
        "id": "nvNt828SOBEi"
      },
      "source": [
        "import warnings\n",
        "warnings.filterwarnings('ignore')"
      ],
      "execution_count": null,
      "outputs": []
    },
    {
      "cell_type": "code",
      "metadata": {
        "id": "bNE8ROZGOBEl"
      },
      "source": [
        "# importar o dataset\n",
        "df = pd.read_csv(\"https://github.com/WoMakersCode/data-science-bootcamp/raw/master/4.1%20Clustering/data/case.csv\")"
      ],
      "execution_count": null,
      "outputs": []
    },
    {
      "cell_type": "markdown",
      "metadata": {
        "id": "niW64awfOBEb"
      },
      "source": [
        "Vamos utilizar uma base fictícia contendo dados de visitas de clientes em um site que gostaríamos de segmentar:  \n",
        "- **Visitas**: quantidade de visitas realizadas durante o mês\n",
        "- **Tempo**: tempo, em segundos, que os usuários ficaram no site"
      ]
    },
    {
      "cell_type": "code",
      "metadata": {
        "id": "Sx4vqHR4OBEo"
      },
      "source": [
        "# TODO\n",
        "# Ver a carinha do nosso conjunto de dados"
      ],
      "execution_count": null,
      "outputs": []
    },
    {
      "cell_type": "markdown",
      "metadata": {
        "id": "860GfxAbOBEu"
      },
      "source": [
        "**Vamos visualizar a distribuição desses dados?**"
      ]
    },
    {
      "cell_type": "code",
      "metadata": {
        "id": "L6CCLCR1OBEv"
      },
      "source": [
        "plt.scatter(df.visitas, df.tempo, alpha=0.5)\n",
        "plt.xlabel('Tempo')\n",
        "plt.ylabel('Quantidade de visitas')\n",
        "plt.show()"
      ],
      "execution_count": null,
      "outputs": []
    },
    {
      "cell_type": "markdown",
      "metadata": {
        "id": "y4Z_QZ1jOBEy"
      },
      "source": [
        "**IMPORTANTE**\n",
        "\n",
        "Como os agrupamentos são definidos com base em uma medida de distância, primeiro **precisamos normalizar os dados**!"
      ]
    },
    {
      "cell_type": "code",
      "metadata": {
        "id": "JJvabX7ZOBEz"
      },
      "source": [
        "# Importar o StandardScaler e normalizar os dados\n",
        "from sklearn.preprocessing import StandardScaler\n",
        "\n",
        "scaler = StandardScaler()\n",
        "df = pd.DataFrame(scaler.fit_transform(df),columns = df.columns)"
      ],
      "execution_count": null,
      "outputs": []
    },
    {
      "cell_type": "code",
      "metadata": {
        "id": "ePVH15znOBE2"
      },
      "source": [
        "plt.scatter(df.visitas, df.tempo, alpha=0.5)\n",
        "plt.xlabel('Tempo')\n",
        "plt.ylabel('Quantidade de visitas')\n",
        "plt.show()"
      ],
      "execution_count": null,
      "outputs": []
    },
    {
      "cell_type": "markdown",
      "metadata": {
        "id": "UPlMoD7OYRmG"
      },
      "source": [
        "**Voltando ao K-means...**"
      ]
    },
    {
      "cell_type": "markdown",
      "metadata": {
        "id": "VjnK1lCEOBE6"
      },
      "source": [
        "\n",
        "\n",
        "O Sklearn já conta com uma implementação do [K-means](https://scikit-learn.org/stable/modules/generated/sklearn.cluster.KMeans.html). Podemos importá-la:"
      ]
    },
    {
      "cell_type": "code",
      "metadata": {
        "id": "qbP4y6RaOBE7"
      },
      "source": [
        "# Importar o K-means\n",
        "from sklearn.cluster import KMeans"
      ],
      "execution_count": null,
      "outputs": []
    },
    {
      "cell_type": "code",
      "metadata": {
        "id": "Z4_TSzuvOBE-"
      },
      "source": [
        "# cria uma instância do K-means\n",
        "kmeans = KMeans() \n",
        "kmeans.fit(df)\n",
        "# salva os centroides\n",
        "centroides = kmeans.cluster_centers_\n",
        "# salva as labels dos clusters para cada exemplo\n",
        "y_kmeans = kmeans.predict(df)"
      ],
      "execution_count": null,
      "outputs": []
    },
    {
      "cell_type": "code",
      "metadata": {
        "id": "3o8_JRwdOBFA"
      },
      "source": [
        "# plota os dados identificando seus clusters\n",
        "plt.scatter(df.visitas, df.tempo, c=y_kmeans, alpha=0.5, cmap='rainbow')\n",
        "plt.xlabel('Tempo')\n",
        "plt.ylabel('Quantidade de visitas')\n",
        "# plota os centroides também\n",
        "plt.scatter(centroides[:, 0], centroides[:, 1], c='black', marker='X', s=200, alpha=0.5)\n",
        "plt.show()"
      ],
      "execution_count": null,
      "outputs": []
    },
    {
      "cell_type": "code",
      "metadata": {
        "id": "1aPfoNAWOBFF"
      },
      "source": [
        "# TODO\n",
        "# Rodar o K-means definindo o número de clusters como 50"
      ],
      "execution_count": null,
      "outputs": []
    },
    {
      "cell_type": "markdown",
      "metadata": {
        "id": "xKse31GuOBFM"
      },
      "source": [
        "Altere o número de clusters e rode o algoritmo de novo. Vamos ver o que acontece :D\n",
        "\n",
        "Não se esqueça de adicionar uma seed!"
      ]
    },
    {
      "cell_type": "code",
      "metadata": {
        "id": "tLnMzzGsOBFN"
      },
      "source": [
        "# TODO\n",
        "# Rodar o K-means escolhendo o número de clusters que você acha que faz sentido"
      ],
      "execution_count": null,
      "outputs": []
    },
    {
      "cell_type": "markdown",
      "metadata": {
        "id": "fSEANPcCOBFW"
      },
      "source": [
        "![](https://github.com/mulheres-em-ia/bootcamp-mia-2022/blob/main/8.%20Clustering/figures/inercia.png?raw=1)"
      ]
    },
    {
      "cell_type": "markdown",
      "metadata": {
        "id": "356T2hleOBFW"
      },
      "source": [
        "Para escolhermos o número de clusters, observamos o gráfico do cotovelo com as inércias e escolhemos o ponto no qual a inércia começa a ficar mais plana e formar um \"cotovelo\":"
      ]
    },
    {
      "cell_type": "code",
      "metadata": {
        "id": "jfKSvn9bOBFX"
      },
      "source": [
        "# Quantidade de clusters que serão testados\n",
        "k = list(range(1, 10))\n",
        "\n",
        "# Armazena das inércias para cada k\n",
        "inercia = []\n",
        "\n",
        "# Roda o K-means para cada k fornecido\n",
        "for i in k:\n",
        "    kmeans = KMeans(n_clusters=i, random_state=8)\n",
        "    kmeans.fit(df)\n",
        "    inercia.append(kmeans.inertia_)\n",
        "\n",
        "# Plota o gráfico com as inércias\n",
        "plt.plot(k, inercia, '-o')\n",
        "plt.xlabel(r'Número de clusters')\n",
        "plt.ylabel('Inércia')\n",
        "plt.show()"
      ],
      "execution_count": null,
      "outputs": []
    },
    {
      "cell_type": "markdown",
      "metadata": {
        "id": "ErS5tjXFOBFc"
      },
      "source": [
        "### Exercício 2"
      ]
    },
    {
      "cell_type": "markdown",
      "metadata": {
        "id": "oGIZQ5FtOBFc"
      },
      "source": [
        "Agora vamos fazer mais uma segmentação de clientes com o K-Means, dessa vez com mais features. O dataset que iremos utilizar é uma adaptação [deste aqui](https://www.kaggle.com/vjchoudhary7/customer-segmentation-tutorial-in-python) presente no Kaggle.\n",
        "\n",
        "Dessa vez, vamos supor que estamos envolvidos em um projeto de um e-commerce que tem como objetivo segmentar e entender seus clientes para realizar campanhas de marketing."
      ]
    },
    {
      "cell_type": "code",
      "metadata": {
        "id": "P9_01aeGOBFd"
      },
      "source": [
        "# importar o dataset\n",
        "segmentation = pd.read_csv(\"https://github.com/WoMakersCode/data-science-bootcamp/raw/master/4.1%20Clustering/data/customer_segmentation.csv\")"
      ],
      "execution_count": null,
      "outputs": []
    },
    {
      "cell_type": "code",
      "metadata": {
        "id": "_6cnOLNqOBFg"
      },
      "source": [
        "segmentation.head()"
      ],
      "execution_count": null,
      "outputs": []
    },
    {
      "cell_type": "markdown",
      "metadata": {
        "id": "a8-ntnYuOBFo"
      },
      "source": [
        "Esse conjunto de dados possui 5 campos:\n",
        "\n",
        "- **id**: código identificador do cliente\n",
        "- **tem_cartao**: indica se o cliente tem cartão de crédito do e-commerce ou não\n",
        "- **idade**: idade do cliente\n",
        "- **renda**: renda mensal do cliente, em reais\n",
        "- **score**: score indicando o gasto do cliente. Quanto maior, mais o cliente gasta no e-commerce"
      ]
    },
    {
      "cell_type": "markdown",
      "metadata": {
        "id": "gX5wY4EBOBFp"
      },
      "source": [
        "**Observando os dados acima, quais pré-processamentos vocês acham que serão necessários antes de realizarmos o agrupamento?**"
      ]
    },
    {
      "cell_type": "markdown",
      "metadata": {
        "id": "C5szPP7mOBFq"
      },
      "source": [
        "**`1° - Remoção do identificador`**\n",
        "\n",
        "O conjunto de dados contém o id do cliente que não iremos utilizar para a segmentação. Precisamos remover antes de realizar o agrupamento:"
      ]
    },
    {
      "cell_type": "code",
      "metadata": {
        "id": "PXgzDb53OBFr"
      },
      "source": [
        "segmentation.drop(columns='id', inplace=True)"
      ],
      "execution_count": null,
      "outputs": []
    },
    {
      "cell_type": "markdown",
      "metadata": {
        "id": "7Z_-AUeEOBFt"
      },
      "source": [
        "**`2° - Lidar com feature categórica`**\n",
        "\n",
        "Temos mais um ponto para resolver antes do agrupamento: a feature `tem_cartao` é categórica e o **k-means só lida com dados numéricos**."
      ]
    },
    {
      "cell_type": "markdown",
      "metadata": {
        "id": "odqpOVFaOBFu"
      },
      "source": [
        "![](http://giphygifs.s3.amazonaws.com/media/dJtDZzyjLF66I/giphy.gif)"
      ]
    },
    {
      "cell_type": "markdown",
      "metadata": {
        "id": "Yjkf9C9NOBFv"
      },
      "source": [
        "**O que podemos fazer para lidar com variáveis categóricas então?**\n",
        "- Feature engineering (One-hot enconding, Label Encoder, etc.)\n",
        "- Utilizar outro algoritmo que permita usar esse tipo de variável\n",
        "\n",
        "No nosso caso, vamos utilizar o [LabelEncoder](https://scikit-learn.org/stable/modules/generated/sklearn.preprocessing.LabelEncoder.html):"
      ]
    },
    {
      "cell_type": "code",
      "metadata": {
        "id": "AwuSc9BKOBFv"
      },
      "source": [
        "# importar o LabelEncoder\n",
        "from sklearn.preprocessing import LabelEncoder"
      ],
      "execution_count": null,
      "outputs": []
    },
    {
      "cell_type": "code",
      "metadata": {
        "id": "Z2aeM2YyOBFx"
      },
      "source": [
        "label_encoder = LabelEncoder()\n",
        "segmentation['tem_cartao'] = label_encoder.fit_transform(segmentation.tem_cartao.values)"
      ],
      "execution_count": null,
      "outputs": []
    },
    {
      "cell_type": "markdown",
      "metadata": {
        "id": "2elcvXu8OBFz"
      },
      "source": [
        "**`3° - Normalizar os dados`**\n",
        "\n",
        "As escalas das features são diferentes, então precisamos normalizar os dados:"
      ]
    },
    {
      "cell_type": "code",
      "metadata": {
        "id": "HHQC_zDZOBF0"
      },
      "source": [
        "from sklearn.preprocessing import StandardScaler"
      ],
      "execution_count": null,
      "outputs": []
    },
    {
      "cell_type": "code",
      "metadata": {
        "id": "_wAmbU__OBF3"
      },
      "source": [
        "scaler = StandardScaler()\n",
        "scaled_segmentation = pd.DataFrame(scaler.fit_transform(segmentation),columns = segmentation.columns)"
      ],
      "execution_count": null,
      "outputs": []
    },
    {
      "cell_type": "markdown",
      "metadata": {
        "id": "l1UEqjzGOBF5"
      },
      "source": [
        "**Agora sim podemos aplicar o K-means \\o/**"
      ]
    },
    {
      "cell_type": "markdown",
      "metadata": {
        "id": "DcSH7RzfOBF5"
      },
      "source": [
        "Primeiro, vamos utilizar a regra do cotovelo para escolher o número de clusters:"
      ]
    },
    {
      "cell_type": "code",
      "metadata": {
        "scrolled": false,
        "id": "ndosxe9uOBF6"
      },
      "source": [
        "# TODO\n",
        "# Fazer a curva do cotovelo aqui para escolhermos o número de clusters"
      ],
      "execution_count": null,
      "outputs": []
    },
    {
      "cell_type": "markdown",
      "metadata": {
        "id": "uIJhbaSQOBF9"
      },
      "source": [
        "Com base no gráfico acima, podemos escolher a quantidade de clusters que serão criados:"
      ]
    },
    {
      "cell_type": "code",
      "metadata": {
        "id": "dHByqJCVOBF9"
      },
      "source": [
        "# TODO\n",
        "# Rodar o k-means no nosso conjunto de dados"
      ],
      "execution_count": null,
      "outputs": []
    },
    {
      "cell_type": "markdown",
      "metadata": {
        "id": "uKkCV7DtOBF_"
      },
      "source": [
        "Após o agrupamento, precisamos reverter a normalização para podermos interpretar os clusters formados!"
      ]
    },
    {
      "cell_type": "code",
      "metadata": {
        "id": "DP8KSNTEOBGA"
      },
      "source": [
        "original_segmentation = pd.DataFrame(scaler.inverse_transform(scaled_segmentation),columns=segmentation.columns)"
      ],
      "execution_count": null,
      "outputs": []
    },
    {
      "cell_type": "markdown",
      "metadata": {
        "id": "KgTs3SUOOBGC"
      },
      "source": [
        "Como utilizamos 4 features para criação dos clusters, não podemos visualizá-las como no 1° exercício. Podemos utilizar o [pairplot](https://seaborn.pydata.org/generated/seaborn.pairplot.html) para tentar interpretar os clusters:"
      ]
    },
    {
      "cell_type": "code",
      "metadata": {
        "id": "sVg7rTZlRyEh"
      },
      "source": [
        "original_segmentation['cluster'] = clusters"
      ],
      "execution_count": null,
      "outputs": []
    },
    {
      "cell_type": "code",
      "metadata": {
        "id": "3st56dolOBGD"
      },
      "source": [
        "sns.pairplot(original_segmentation, hue = 'cluster');"
      ],
      "execution_count": null,
      "outputs": []
    },
    {
      "cell_type": "markdown",
      "metadata": {
        "id": "REBB9M_POBGP"
      },
      "source": [
        "## Hierárquico: **Agrupamento Hierárquico Aglomerativo**"
      ]
    },
    {
      "cell_type": "markdown",
      "metadata": {
        "id": "eHbZqM9bOBGQ"
      },
      "source": [
        "![](https://media.giphy.com/media/pSNCWCEAsgrAs/giphy.gif)"
      ]
    },
    {
      "cell_type": "markdown",
      "metadata": {
        "id": "KBa752quOBGS"
      },
      "source": [
        "### Exercício 3"
      ]
    },
    {
      "cell_type": "markdown",
      "metadata": {
        "id": "8qLAQVG0OBGS"
      },
      "source": [
        "Vamos utilizar o mesmo conjunto de dados utilizado no segundo exercício do K-means para realizar um agrupamento hierárquico aglomerativo. Para esse agrupamento, precisaremos importar o dendograma do [Scipy](https://docs.scipy.org/doc/scipy/reference/cluster.hierarchy.html).\n",
        "\n",
        "O sklearn também possui um [módulo](https://scikit-learn.org/stable/modules/generated/sklearn.cluster.AgglomerativeClustering.html) para realizar um agrupamento hierárquico aglomerativo, mas é complicado visualizar o dendograma com ele, então vamos ficar com o scipy mesmo."
      ]
    },
    {
      "cell_type": "code",
      "metadata": {
        "id": "fFXGd-5fOBGT"
      },
      "source": [
        "# importar os módulos dendogram e linkage\n",
        "from scipy.cluster.hierarchy import dendrogram, linkage"
      ],
      "execution_count": null,
      "outputs": []
    },
    {
      "cell_type": "code",
      "metadata": {
        "id": "OtoD0a9aOBGV"
      },
      "source": [
        "# TODO\n",
        "# Usar o método linkage para fazer o agrupamento hierárquico\n",
        "h_cluster = "
      ],
      "execution_count": null,
      "outputs": []
    },
    {
      "cell_type": "code",
      "metadata": {
        "id": "zEnzqb8HOBGX"
      },
      "source": [
        "# TODO\n",
        "plt.title('Dendograma')\n",
        "plt.xlabel('Exemplos')\n",
        "plt.ylabel('Distância')\n",
        "# Chamar o dendrograma aqui\n",
        "plt.show()"
      ],
      "execution_count": null,
      "outputs": []
    },
    {
      "cell_type": "markdown",
      "metadata": {
        "id": "6sFsDczyOBGa"
      },
      "source": [
        "**Vamos testar outras abordagens de agrupamentos e métricas de distância?**"
      ]
    },
    {
      "cell_type": "markdown",
      "metadata": {
        "id": "8XT03nllOBGa"
      },
      "source": [
        "![](https://media.giphy.com/media/12zV7u6Bh0vHpu/giphy.gif)"
      ]
    },
    {
      "cell_type": "markdown",
      "metadata": {
        "id": "HziBNsH_OBGe"
      },
      "source": [
        "## Por densidade: **DBSCAN**"
      ]
    },
    {
      "cell_type": "markdown",
      "metadata": {
        "id": "g0d6X_10OBGf"
      },
      "source": [
        "![](https://media.giphy.com/media/lCL2GQewp7fkk/giphy.gif)"
      ]
    },
    {
      "cell_type": "markdown",
      "metadata": {
        "id": "mukUxpTHOBGh"
      },
      "source": [
        "### Exercício 4"
      ]
    },
    {
      "cell_type": "markdown",
      "metadata": {
        "id": "H9fxh4oNOBGh"
      },
      "source": [
        "Vamos utilizar novamente o conjunto do primeiro exercício com o DBSCAN, que vamos importar do [sklearn](https://scikit-learn.org/stable/modules/generated/sklearn.cluster.DBSCAN.html):"
      ]
    },
    {
      "cell_type": "code",
      "metadata": {
        "id": "POKAI1vHOBGi"
      },
      "source": [
        "# Importar o DBSCAN\n",
        "from sklearn.cluster import DBSCAN"
      ],
      "execution_count": null,
      "outputs": []
    },
    {
      "cell_type": "code",
      "metadata": {
        "id": "hcpdXFOTOBGk"
      },
      "source": [
        "# TODO\n",
        "# Escolha um epsilon e um minPts\n",
        "dbscan = \n",
        "# salvar os clusters atribuídos para cada exemplo\n",
        "clusters = "
      ],
      "execution_count": null,
      "outputs": []
    },
    {
      "cell_type": "code",
      "metadata": {
        "id": "3xdXTRrjOBGl"
      },
      "source": [
        "# plota os clusters encontrados\n",
        "plt.scatter(df.visitas, df.tempo, c=clusters, alpha=0.5, cmap='rainbow')\n",
        "plt.xlabel('Tempo')\n",
        "plt.ylabel('Quantidade de visitas')\n",
        "plt.show()"
      ],
      "execution_count": null,
      "outputs": []
    }
  ]
}